# Importing the json module 
import json
def route_plotter(df, prev_port, next_port):
    df = df.groupby(['prev_port','next_port','lat', 'lon']).count()
    df = df.drop(['trip_count','frequency'], axis = 1)
    df = new_data.loc[prev_port,next_port].reset_index()
    plot_points = [xy for xy in zip(df['lat'], df['lon'])]
    # opening the json file to read as dictionary
    with open('route.json') as js:
        js_data = json.load(js)
        js_data['features'][0]['geometry']['coordinates']= plot_points
    m = folium.Map(location=[i for i in plot_points[0]], zoom_start=10)
    folium.GeoJson(js_data, name='walk').add_to(m)
    for i in plot_points:
        folium.Marker(i,popup="<strong>POP</strong>", tooltip = 'from {} to {}'.format(prev_port, next_port)).add_to(m)
    
    return m.save('map1.html') 
